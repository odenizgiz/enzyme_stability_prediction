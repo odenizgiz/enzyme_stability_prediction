{
 "cells": [
  {
   "cell_type": "code",
   "execution_count": 1,
   "metadata": {},
   "outputs": [],
   "source": [
    "import pandas as pd\n",
    "import numpy as np \n",
    "import matplotlib.pyplot as plt"
   ]
  },
  {
   "cell_type": "code",
   "execution_count": 2,
   "metadata": {},
   "outputs": [],
   "source": [
    "from Bio.SeqUtils.ProtParam import ProteinAnalysis"
   ]
  },
  {
   "cell_type": "markdown",
   "metadata": {},
   "source": [
    "<p><p/>"
   ]
  },
  {
   "cell_type": "markdown",
   "metadata": {},
   "source": [
    "# Enzyme Stability Prediction"
   ]
  },
  {
   "cell_type": "markdown",
   "metadata": {},
   "source": [
    "## 1. Data Exploration "
   ]
  },
  {
   "cell_type": "code",
   "execution_count": 3,
   "metadata": {},
   "outputs": [],
   "source": [
    "df = pd.read_csv(\"data/train.csv\")"
   ]
  },
  {
   "cell_type": "code",
   "execution_count": 4,
   "metadata": {},
   "outputs": [
    {
     "data": {
      "text/html": [
       "<div>\n",
       "<style scoped>\n",
       "    .dataframe tbody tr th:only-of-type {\n",
       "        vertical-align: middle;\n",
       "    }\n",
       "\n",
       "    .dataframe tbody tr th {\n",
       "        vertical-align: top;\n",
       "    }\n",
       "\n",
       "    .dataframe thead th {\n",
       "        text-align: right;\n",
       "    }\n",
       "</style>\n",
       "<table border=\"1\" class=\"dataframe\">\n",
       "  <thead>\n",
       "    <tr style=\"text-align: right;\">\n",
       "      <th></th>\n",
       "      <th>seq_id</th>\n",
       "      <th>protein_sequence</th>\n",
       "      <th>pH</th>\n",
       "      <th>data_source</th>\n",
       "      <th>tm</th>\n",
       "    </tr>\n",
       "  </thead>\n",
       "  <tbody>\n",
       "    <tr>\n",
       "      <th>0</th>\n",
       "      <td>0</td>\n",
       "      <td>AAAAKAAALALLGEAPEVVDIWLPAGWRQPFRVFRLERKGDGVLVG...</td>\n",
       "      <td>7.0</td>\n",
       "      <td>doi.org/10.1038/s41592-020-0801-4</td>\n",
       "      <td>75.7</td>\n",
       "    </tr>\n",
       "    <tr>\n",
       "      <th>1</th>\n",
       "      <td>1</td>\n",
       "      <td>AAADGEPLHNEEERAGAGQVGRSLPQESEEQRTGSRPRRRRDLGSR...</td>\n",
       "      <td>7.0</td>\n",
       "      <td>doi.org/10.1038/s41592-020-0801-4</td>\n",
       "      <td>50.5</td>\n",
       "    </tr>\n",
       "    <tr>\n",
       "      <th>2</th>\n",
       "      <td>2</td>\n",
       "      <td>AAAFSTPRATSYRILSSAGSGSTRADAPQVRRLHTTRDLLAKDYYA...</td>\n",
       "      <td>7.0</td>\n",
       "      <td>doi.org/10.1038/s41592-020-0801-4</td>\n",
       "      <td>40.5</td>\n",
       "    </tr>\n",
       "    <tr>\n",
       "      <th>3</th>\n",
       "      <td>3</td>\n",
       "      <td>AAASGLRTAIPAQPLRHLLQPAPRPCLRPFGLLSVRAGSARRSGLL...</td>\n",
       "      <td>7.0</td>\n",
       "      <td>doi.org/10.1038/s41592-020-0801-4</td>\n",
       "      <td>47.2</td>\n",
       "    </tr>\n",
       "    <tr>\n",
       "      <th>4</th>\n",
       "      <td>4</td>\n",
       "      <td>AAATKSGPRRQSQGASVRTFTPFYFLVEPVDTLSVRGSSVILNCSA...</td>\n",
       "      <td>7.0</td>\n",
       "      <td>doi.org/10.1038/s41592-020-0801-4</td>\n",
       "      <td>49.5</td>\n",
       "    </tr>\n",
       "  </tbody>\n",
       "</table>\n",
       "</div>"
      ],
      "text/plain": [
       "   seq_id                                   protein_sequence   pH  \\\n",
       "0       0  AAAAKAAALALLGEAPEVVDIWLPAGWRQPFRVFRLERKGDGVLVG...  7.0   \n",
       "1       1  AAADGEPLHNEEERAGAGQVGRSLPQESEEQRTGSRPRRRRDLGSR...  7.0   \n",
       "2       2  AAAFSTPRATSYRILSSAGSGSTRADAPQVRRLHTTRDLLAKDYYA...  7.0   \n",
       "3       3  AAASGLRTAIPAQPLRHLLQPAPRPCLRPFGLLSVRAGSARRSGLL...  7.0   \n",
       "4       4  AAATKSGPRRQSQGASVRTFTPFYFLVEPVDTLSVRGSSVILNCSA...  7.0   \n",
       "\n",
       "                         data_source    tm  \n",
       "0  doi.org/10.1038/s41592-020-0801-4  75.7  \n",
       "1  doi.org/10.1038/s41592-020-0801-4  50.5  \n",
       "2  doi.org/10.1038/s41592-020-0801-4  40.5  \n",
       "3  doi.org/10.1038/s41592-020-0801-4  47.2  \n",
       "4  doi.org/10.1038/s41592-020-0801-4  49.5  "
      ]
     },
     "execution_count": 4,
     "metadata": {},
     "output_type": "execute_result"
    }
   ],
   "source": [
    "df.head()"
   ]
  },
  {
   "cell_type": "code",
   "execution_count": 5,
   "metadata": {},
   "outputs": [
    {
     "name": "stdout",
     "output_type": "stream",
     "text": [
      "Columns in data: Index(['seq_id', 'protein_sequence', 'pH', 'data_source', 'tm'], dtype='object')\n",
      "Data dimensions: (31390, 5)\n",
      "Data types: \n",
      " seq_id                int64\n",
      "protein_sequence     object\n",
      "pH                  float64\n",
      "data_source          object\n",
      "tm                  float64\n",
      "dtype: object\n",
      "\n"
     ]
    }
   ],
   "source": [
    "print (\"Columns in data:\", df.columns)\n",
    "print (\"Data dimensions:\", df.shape)\n",
    "print (\"Data types: \\n\", df.dtypes)\n",
    "print (\"\")\n",
    "# print (df.protein_sequence.)"
   ]
  },
  {
   "cell_type": "code",
   "execution_count": 6,
   "metadata": {},
   "outputs": [
    {
     "data": {
      "text/plain": [
       "seq_id                 0\n",
       "protein_sequence       0\n",
       "pH                   286\n",
       "data_source         3347\n",
       "tm                     0\n",
       "dtype: int64"
      ]
     },
     "execution_count": 6,
     "metadata": {},
     "output_type": "execute_result"
    }
   ],
   "source": [
    "# Checking if there is missing data \n",
    "pd.isnull(df).sum()"
   ]
  },
  {
   "cell_type": "code",
   "execution_count": 7,
   "metadata": {},
   "outputs": [
    {
     "data": {
      "text/plain": [
       "58"
      ]
     },
     "execution_count": 7,
     "metadata": {},
     "output_type": "execute_result"
    }
   ],
   "source": [
    "# checking if there are duplicates\n",
    "df[['protein_sequence', 'pH', 'tm']].duplicated().sum()"
   ]
  },
  {
   "cell_type": "code",
   "execution_count": 8,
   "metadata": {},
   "outputs": [
    {
     "data": {
      "text/html": [
       "<div>\n",
       "<style scoped>\n",
       "    .dataframe tbody tr th:only-of-type {\n",
       "        vertical-align: middle;\n",
       "    }\n",
       "\n",
       "    .dataframe tbody tr th {\n",
       "        vertical-align: top;\n",
       "    }\n",
       "\n",
       "    .dataframe thead th {\n",
       "        text-align: right;\n",
       "    }\n",
       "</style>\n",
       "<table border=\"1\" class=\"dataframe\">\n",
       "  <thead>\n",
       "    <tr style=\"text-align: right;\">\n",
       "      <th></th>\n",
       "      <th>pH</th>\n",
       "      <th>tm</th>\n",
       "    </tr>\n",
       "  </thead>\n",
       "  <tbody>\n",
       "    <tr>\n",
       "      <th>count</th>\n",
       "      <td>31104.000000</td>\n",
       "      <td>31390.000000</td>\n",
       "    </tr>\n",
       "    <tr>\n",
       "      <th>mean</th>\n",
       "      <td>6.892339</td>\n",
       "      <td>49.147337</td>\n",
       "    </tr>\n",
       "    <tr>\n",
       "      <th>std</th>\n",
       "      <td>1.612225</td>\n",
       "      <td>14.010089</td>\n",
       "    </tr>\n",
       "    <tr>\n",
       "      <th>min</th>\n",
       "      <td>1.990000</td>\n",
       "      <td>-1.000000</td>\n",
       "    </tr>\n",
       "    <tr>\n",
       "      <th>25%</th>\n",
       "      <td>7.000000</td>\n",
       "      <td>42.100000</td>\n",
       "    </tr>\n",
       "    <tr>\n",
       "      <th>50%</th>\n",
       "      <td>7.000000</td>\n",
       "      <td>48.000000</td>\n",
       "    </tr>\n",
       "    <tr>\n",
       "      <th>75%</th>\n",
       "      <td>7.000000</td>\n",
       "      <td>53.800000</td>\n",
       "    </tr>\n",
       "    <tr>\n",
       "      <th>max</th>\n",
       "      <td>64.900000</td>\n",
       "      <td>130.000000</td>\n",
       "    </tr>\n",
       "  </tbody>\n",
       "</table>\n",
       "</div>"
      ],
      "text/plain": [
       "                 pH            tm\n",
       "count  31104.000000  31390.000000\n",
       "mean       6.892339     49.147337\n",
       "std        1.612225     14.010089\n",
       "min        1.990000     -1.000000\n",
       "25%        7.000000     42.100000\n",
       "50%        7.000000     48.000000\n",
       "75%        7.000000     53.800000\n",
       "max       64.900000    130.000000"
      ]
     },
     "execution_count": 8,
     "metadata": {},
     "output_type": "execute_result"
    }
   ],
   "source": [
    "df[['protein_sequence', 'pH', 'tm']].describe()"
   ]
  },
  {
   "cell_type": "code",
   "execution_count": 9,
   "metadata": {},
   "outputs": [
    {
     "data": {
      "text/plain": [
       "array([ 1.99,  2.  ,  2.02,  2.03,  2.1 ,  2.2 ,  2.3 ,  2.34,  2.4 ,\n",
       "        2.5 ,  2.53,  2.7 ,  2.8 ,  2.81,  2.83,  2.84,  2.86,  2.9 ,\n",
       "        2.94,  2.98,  3.  ,  3.01,  3.02,  3.04,  3.07,  3.1 ,  3.14,\n",
       "        3.15,  3.16,  3.19,  3.2 ,  3.21,  3.25,  3.3 ,  3.5 ,  3.6 ,\n",
       "        3.7 ,  3.75,  3.8 ,  3.9 ,  4.  ,  4.1 ,  4.2 ,  4.25,  4.3 ,\n",
       "        4.4 ,  4.5 ,  4.6 ,  4.7 ,  4.75,  4.8 ,  4.9 ,  5.  ,  5.1 ,\n",
       "        5.2 ,  5.28,  5.3 ,  5.31,  5.35,  5.38,  5.4 ,  5.42,  5.45,\n",
       "        5.5 ,  5.6 ,  5.7 ,  5.8 ,  5.9 ,  6.  ,  6.1 ,  6.2 ,  6.3 ,\n",
       "        6.4 ,  6.5 ,  6.6 ,  6.7 ,  6.78,  6.8 ,  6.9 ,  7.  ,  7.1 ,\n",
       "        7.2 ,  7.3 ,  7.4 ,  7.5 ,  7.6 ,  7.7 ,  7.8 ,  8.  ,  8.1 ,\n",
       "        8.2 ,  8.25,  8.3 ,  8.4 ,  8.5 ,  8.6 ,  8.7 ,  9.  ,  9.08,\n",
       "        9.2 ,  9.5 ,  9.6 ,  9.7 ,  9.75,  9.9 , 10.  , 10.3 , 10.4 ,\n",
       "       11.  , 39.  , 48.4 , 49.  , 53.4 , 55.6 , 64.9 ,   nan])"
      ]
     },
     "execution_count": 9,
     "metadata": {},
     "output_type": "execute_result"
    }
   ],
   "source": [
    "np.sort(df['pH'].unique())"
   ]
  },
  {
   "cell_type": "code",
   "execution_count": 10,
   "metadata": {},
   "outputs": [
    {
     "name": "stdout",
     "output_type": "stream",
     "text": [
      "(29, 5)\n",
      "Int64Index([  973,   986,   988,   989,  1003,  1012,  1014,  1018,  1037,\n",
      "             1042,  1079,  1081,  1088,  1093,  1096,  1098,  1100,  1108,\n",
      "             1111,  1120,  1122,  1125, 13447, 13449, 14640, 22116, 22123,\n",
      "            22131, 22145],\n",
      "           dtype='int64')\n"
     ]
    }
   ],
   "source": [
    "print(df[df['pH'] > 14].shape)\n",
    "print(df[df['pH'] > 14].index)"
   ]
  },
  {
   "cell_type": "code",
   "execution_count": 11,
   "metadata": {},
   "outputs": [
    {
     "data": {
      "text/plain": [
       "25.0    1472\n",
       "20.0     561\n",
       "50.0     200\n",
       "45.0     178\n",
       "49.7     176\n",
       "        ... \n",
       "23.4       1\n",
       "25.2       1\n",
       "28.7       1\n",
       "99.0       1\n",
       "17.2       1\n",
       "Name: tm, Length: 770, dtype: int64"
      ]
     },
     "execution_count": 11,
     "metadata": {},
     "output_type": "execute_result"
    }
   ],
   "source": [
    "df['tm'].value_counts()"
   ]
  },
  {
   "cell_type": "code",
   "execution_count": 13,
   "metadata": {},
   "outputs": [
    {
     "data": {
      "image/png": "[encoded data removed]",
      "text/plain": [
       "<Figure size 720x288 with 2 Axes>"
      ]
     },
     "metadata": {
      "needs_background": "light"
     },
     "output_type": "display_data"
    }
   ],
   "source": [
    "# bins=df['tm'].quantile([0,.05,0.1,0.15,0.20,0.25,0.3,0.35,0.40,0.45,0.5,0.55,0.6,0.65,0.70,0.75,0.80,0.85,0.90,0.95,1]).to_list()\n",
    "fig, ax = plt.subplots(nrows=1, ncols=2, figsize=(10, 4))\n",
    "ax[0].hist(df['tm'], alpha=0.8, color='gray', label=\"tm\")\n",
    "ax[1].hist(df['pH'], alpha=0.8, color='gray', label=\"pH\")\n",
    "ax[0].legend();\n",
    "ax[1].legend();"
   ]
  },
  {
   "cell_type": "code",
   "execution_count": 14,
   "metadata": {},
   "outputs": [],
   "source": [
    "# remove null values, \n",
    "# remove pH>max,\n",
    "# remove duplicates, \n",
    "# look at the unique length values of the sequences "
   ]
  },
  {
   "cell_type": "code",
   "execution_count": 15,
   "metadata": {},
   "outputs": [],
   "source": [
    "df.drop_duplicates(subset=['protein_sequence','pH','tm'],inplace=True)"
   ]
  },
  {
   "cell_type": "code",
   "execution_count": 16,
   "metadata": {},
   "outputs": [
    {
     "data": {
      "text/plain": [
       "(31332, 5)"
      ]
     },
     "execution_count": 16,
     "metadata": {},
     "output_type": "execute_result"
    }
   ],
   "source": [
    "df.shape"
   ]
  },
  {
   "cell_type": "code",
   "execution_count": 17,
   "metadata": {},
   "outputs": [
    {
     "data": {
      "text/html": [
       "<div>\n",
       "<style scoped>\n",
       "    .dataframe tbody tr th:only-of-type {\n",
       "        vertical-align: middle;\n",
       "    }\n",
       "\n",
       "    .dataframe tbody tr th {\n",
       "        vertical-align: top;\n",
       "    }\n",
       "\n",
       "    .dataframe thead th {\n",
       "        text-align: right;\n",
       "    }\n",
       "</style>\n",
       "<table border=\"1\" class=\"dataframe\">\n",
       "  <thead>\n",
       "    <tr style=\"text-align: right;\">\n",
       "      <th></th>\n",
       "      <th>seq_id</th>\n",
       "      <th>protein_sequence</th>\n",
       "      <th>pH</th>\n",
       "      <th>data_source</th>\n",
       "      <th>tm</th>\n",
       "    </tr>\n",
       "  </thead>\n",
       "  <tbody>\n",
       "    <tr>\n",
       "      <th>0</th>\n",
       "      <td>0</td>\n",
       "      <td>AAAAKAAALALLGEAPEVVDIWLPAGWRQPFRVFRLERKGDGVLVG...</td>\n",
       "      <td>7.0</td>\n",
       "      <td>doi.org/10.1038/s41592-020-0801-4</td>\n",
       "      <td>75.7</td>\n",
       "    </tr>\n",
       "    <tr>\n",
       "      <th>1</th>\n",
       "      <td>1</td>\n",
       "      <td>AAADGEPLHNEEERAGAGQVGRSLPQESEEQRTGSRPRRRRDLGSR...</td>\n",
       "      <td>7.0</td>\n",
       "      <td>doi.org/10.1038/s41592-020-0801-4</td>\n",
       "      <td>50.5</td>\n",
       "    </tr>\n",
       "    <tr>\n",
       "      <th>2</th>\n",
       "      <td>2</td>\n",
       "      <td>AAAFSTPRATSYRILSSAGSGSTRADAPQVRRLHTTRDLLAKDYYA...</td>\n",
       "      <td>7.0</td>\n",
       "      <td>doi.org/10.1038/s41592-020-0801-4</td>\n",
       "      <td>40.5</td>\n",
       "    </tr>\n",
       "    <tr>\n",
       "      <th>3</th>\n",
       "      <td>3</td>\n",
       "      <td>AAASGLRTAIPAQPLRHLLQPAPRPCLRPFGLLSVRAGSARRSGLL...</td>\n",
       "      <td>7.0</td>\n",
       "      <td>doi.org/10.1038/s41592-020-0801-4</td>\n",
       "      <td>47.2</td>\n",
       "    </tr>\n",
       "    <tr>\n",
       "      <th>4</th>\n",
       "      <td>4</td>\n",
       "      <td>AAATKSGPRRQSQGASVRTFTPFYFLVEPVDTLSVRGSSVILNCSA...</td>\n",
       "      <td>7.0</td>\n",
       "      <td>doi.org/10.1038/s41592-020-0801-4</td>\n",
       "      <td>49.5</td>\n",
       "    </tr>\n",
       "  </tbody>\n",
       "</table>\n",
       "</div>"
      ],
      "text/plain": [
       "   seq_id                                   protein_sequence   pH  \\\n",
       "0       0  AAAAKAAALALLGEAPEVVDIWLPAGWRQPFRVFRLERKGDGVLVG...  7.0   \n",
       "1       1  AAADGEPLHNEEERAGAGQVGRSLPQESEEQRTGSRPRRRRDLGSR...  7.0   \n",
       "2       2  AAAFSTPRATSYRILSSAGSGSTRADAPQVRRLHTTRDLLAKDYYA...  7.0   \n",
       "3       3  AAASGLRTAIPAQPLRHLLQPAPRPCLRPFGLLSVRAGSARRSGLL...  7.0   \n",
       "4       4  AAATKSGPRRQSQGASVRTFTPFYFLVEPVDTLSVRGSSVILNCSA...  7.0   \n",
       "\n",
       "                         data_source    tm  \n",
       "0  doi.org/10.1038/s41592-020-0801-4  75.7  \n",
       "1  doi.org/10.1038/s41592-020-0801-4  50.5  \n",
       "2  doi.org/10.1038/s41592-020-0801-4  40.5  \n",
       "3  doi.org/10.1038/s41592-020-0801-4  47.2  \n",
       "4  doi.org/10.1038/s41592-020-0801-4  49.5  "
      ]
     },
     "execution_count": 17,
     "metadata": {},
     "output_type": "execute_result"
    }
   ],
   "source": [
    "df.head()"
   ]
  },
  {
   "cell_type": "code",
   "execution_count": 18,
   "metadata": {},
   "outputs": [],
   "source": [
    "columns_ = ['seq_id', 'protein_sequence', 'pH', 'tm']\n",
    "df_ = df[df['pH'] <= 14][columns_].dropna()"
   ]
  },
  {
   "cell_type": "code",
   "execution_count": 19,
   "metadata": {},
   "outputs": [
    {
     "name": "stdout",
     "output_type": "stream",
     "text": [
      "Columns in data: Index(['seq_id', 'protein_sequence', 'pH', 'tm'], dtype='object')\n",
      "Data dimensions: (31017, 4)\n",
      "Data types: \n",
      " seq_id                int64\n",
      "protein_sequence     object\n",
      "pH                  float64\n",
      "tm                  float64\n",
      "dtype: object\n",
      "\n"
     ]
    }
   ],
   "source": [
    "print (\"Columns in data:\", df_.columns)\n",
    "print (\"Data dimensions:\", df_.shape)\n",
    "print (\"Data types: \\n\", df_.dtypes)\n",
    "print (\"\")"
   ]
  },
  {
   "cell_type": "code",
   "execution_count": 20,
   "metadata": {},
   "outputs": [
    {
     "name": "stdout",
     "output_type": "stream",
     "text": [
      "<class 'pandas.core.frame.DataFrame'>\n",
      "Int64Index: 31332 entries, 0 to 31389\n",
      "Data columns (total 5 columns):\n",
      " #   Column            Non-Null Count  Dtype  \n",
      "---  ------            --------------  -----  \n",
      " 0   seq_id            31332 non-null  int64  \n",
      " 1   protein_sequence  31332 non-null  object \n",
      " 2   pH                31046 non-null  float64\n",
      " 3   data_source       27986 non-null  object \n",
      " 4   tm                31332 non-null  float64\n",
      "dtypes: float64(2), int64(1), object(2)\n",
      "memory usage: 1.4+ MB\n"
     ]
    }
   ],
   "source": [
    "df.info()"
   ]
  },
  {
   "cell_type": "code",
   "execution_count": 21,
   "metadata": {},
   "outputs": [
    {
     "data": {
      "text/plain": [
       "seq_id              0\n",
       "protein_sequence    0\n",
       "pH                  0\n",
       "tm                  0\n",
       "dtype: int64"
      ]
     },
     "execution_count": 21,
     "metadata": {},
     "output_type": "execute_result"
    }
   ],
   "source": [
    "pd.isnull(df_).sum()"
   ]
  },
  {
   "cell_type": "code",
   "execution_count": 22,
   "metadata": {},
   "outputs": [
    {
     "data": {
      "text/plain": [
       "array([ 1.99,  2.  ,  2.02,  2.03,  2.1 ,  2.2 ,  2.3 ,  2.34,  2.4 ,\n",
       "        2.5 ,  2.53,  2.7 ,  2.8 ,  2.81,  2.83,  2.84,  2.86,  2.9 ,\n",
       "        2.94,  2.98,  3.  ,  3.01,  3.02,  3.04,  3.07,  3.1 ,  3.14,\n",
       "        3.15,  3.16,  3.19,  3.2 ,  3.21,  3.25,  3.3 ,  3.5 ,  3.6 ,\n",
       "        3.7 ,  3.75,  3.8 ,  3.9 ,  4.  ,  4.1 ,  4.2 ,  4.25,  4.3 ,\n",
       "        4.4 ,  4.5 ,  4.6 ,  4.7 ,  4.75,  4.8 ,  4.9 ,  5.  ,  5.1 ,\n",
       "        5.2 ,  5.28,  5.3 ,  5.31,  5.35,  5.38,  5.4 ,  5.42,  5.45,\n",
       "        5.5 ,  5.6 ,  5.7 ,  5.8 ,  5.9 ,  6.  ,  6.1 ,  6.2 ,  6.3 ,\n",
       "        6.4 ,  6.5 ,  6.6 ,  6.7 ,  6.78,  6.8 ,  6.9 ,  7.  ,  7.1 ,\n",
       "        7.2 ,  7.3 ,  7.4 ,  7.5 ,  7.6 ,  7.7 ,  7.8 ,  8.  ,  8.1 ,\n",
       "        8.2 ,  8.25,  8.3 ,  8.4 ,  8.5 ,  8.6 ,  8.7 ,  9.  ,  9.08,\n",
       "        9.2 ,  9.5 ,  9.6 ,  9.7 ,  9.75,  9.9 , 10.  , 10.3 , 10.4 ,\n",
       "       11.  ])"
      ]
     },
     "execution_count": 22,
     "metadata": {},
     "output_type": "execute_result"
    }
   ],
   "source": [
    "np.sort(df_['pH'].unique())"
   ]
  },
  {
   "cell_type": "code",
   "execution_count": 23,
   "metadata": {},
   "outputs": [
    {
     "data": {
      "text/html": [
       "<div>\n",
       "<style scoped>\n",
       "    .dataframe tbody tr th:only-of-type {\n",
       "        vertical-align: middle;\n",
       "    }\n",
       "\n",
       "    .dataframe tbody tr th {\n",
       "        vertical-align: top;\n",
       "    }\n",
       "\n",
       "    .dataframe thead th {\n",
       "        text-align: right;\n",
       "    }\n",
       "</style>\n",
       "<table border=\"1\" class=\"dataframe\">\n",
       "  <thead>\n",
       "    <tr style=\"text-align: right;\">\n",
       "      <th></th>\n",
       "      <th>count</th>\n",
       "      <th>mean</th>\n",
       "      <th>std</th>\n",
       "      <th>min</th>\n",
       "      <th>25%</th>\n",
       "      <th>50%</th>\n",
       "      <th>75%</th>\n",
       "      <th>max</th>\n",
       "    </tr>\n",
       "  </thead>\n",
       "  <tbody>\n",
       "    <tr>\n",
       "      <th>pH</th>\n",
       "      <td>31017.0</td>\n",
       "      <td>6.854615</td>\n",
       "      <td>0.851209</td>\n",
       "      <td>1.99</td>\n",
       "      <td>7.0</td>\n",
       "      <td>7.0</td>\n",
       "      <td>7.0</td>\n",
       "      <td>11.0</td>\n",
       "    </tr>\n",
       "    <tr>\n",
       "      <th>tm</th>\n",
       "      <td>31017.0</td>\n",
       "      <td>49.174952</td>\n",
       "      <td>13.980854</td>\n",
       "      <td>-1.00</td>\n",
       "      <td>42.1</td>\n",
       "      <td>48.1</td>\n",
       "      <td>53.8</td>\n",
       "      <td>130.0</td>\n",
       "    </tr>\n",
       "  </tbody>\n",
       "</table>\n",
       "</div>"
      ],
      "text/plain": [
       "      count       mean        std   min   25%   50%   75%    max\n",
       "pH  31017.0   6.854615   0.851209  1.99   7.0   7.0   7.0   11.0\n",
       "tm  31017.0  49.174952  13.980854 -1.00  42.1  48.1  53.8  130.0"
      ]
     },
     "execution_count": 23,
     "metadata": {},
     "output_type": "execute_result"
    }
   ],
   "source": [
    "df_[['protein_sequence', 'pH', 'tm']].describe().T"
   ]
  },
  {
   "cell_type": "code",
   "execution_count": 24,
   "metadata": {},
   "outputs": [
    {
     "data": {
      "image/png": "[encoded data removed]",
      "text/plain": [
       "<Figure size 1080x288 with 3 Axes>"
      ]
     },
     "metadata": {
      "needs_background": "light"
     },
     "output_type": "display_data"
    }
   ],
   "source": [
    "fig, ax = plt.subplots(nrows=1, ncols=3, figsize=(15, 4))\n",
    "ax[0].hist(df_['tm'], alpha=0.8, color='gray', label=\"tm\")\n",
    "ax[1].hist(df_['pH'], alpha=0.8, color='gray', label=\"pH\")\n",
    "ax[2].hist(df_['protein_sequence'].str.len(), alpha=0.8, color='gray', label=\"protein sequence length\")\n",
    "ax[0].legend();\n",
    "ax[1].legend();\n",
    "ax[2].legend();"
   ]
  },
  {
   "cell_type": "code",
   "execution_count": 25,
   "metadata": {},
   "outputs": [
    {
     "data": {
      "text/html": [
       "<div>\n",
       "<style scoped>\n",
       "    .dataframe tbody tr th:only-of-type {\n",
       "        vertical-align: middle;\n",
       "    }\n",
       "\n",
       "    .dataframe tbody tr th {\n",
       "        vertical-align: top;\n",
       "    }\n",
       "\n",
       "    .dataframe thead th {\n",
       "        text-align: right;\n",
       "    }\n",
       "</style>\n",
       "<table border=\"1\" class=\"dataframe\">\n",
       "  <thead>\n",
       "    <tr style=\"text-align: right;\">\n",
       "      <th></th>\n",
       "      <th>seq_id</th>\n",
       "      <th>protein_sequence</th>\n",
       "      <th>pH</th>\n",
       "      <th>tm</th>\n",
       "    </tr>\n",
       "  </thead>\n",
       "  <tbody>\n",
       "    <tr>\n",
       "      <th>0</th>\n",
       "      <td>0</td>\n",
       "      <td>AAAAKAAALALLGEAPEVVDIWLPAGWRQPFRVFRLERKGDGVLVG...</td>\n",
       "      <td>7.0</td>\n",
       "      <td>75.7</td>\n",
       "    </tr>\n",
       "    <tr>\n",
       "      <th>1</th>\n",
       "      <td>1</td>\n",
       "      <td>AAADGEPLHNEEERAGAGQVGRSLPQESEEQRTGSRPRRRRDLGSR...</td>\n",
       "      <td>7.0</td>\n",
       "      <td>50.5</td>\n",
       "    </tr>\n",
       "    <tr>\n",
       "      <th>2</th>\n",
       "      <td>2</td>\n",
       "      <td>AAAFSTPRATSYRILSSAGSGSTRADAPQVRRLHTTRDLLAKDYYA...</td>\n",
       "      <td>7.0</td>\n",
       "      <td>40.5</td>\n",
       "    </tr>\n",
       "    <tr>\n",
       "      <th>3</th>\n",
       "      <td>3</td>\n",
       "      <td>AAASGLRTAIPAQPLRHLLQPAPRPCLRPFGLLSVRAGSARRSGLL...</td>\n",
       "      <td>7.0</td>\n",
       "      <td>47.2</td>\n",
       "    </tr>\n",
       "    <tr>\n",
       "      <th>4</th>\n",
       "      <td>4</td>\n",
       "      <td>AAATKSGPRRQSQGASVRTFTPFYFLVEPVDTLSVRGSSVILNCSA...</td>\n",
       "      <td>7.0</td>\n",
       "      <td>49.5</td>\n",
       "    </tr>\n",
       "  </tbody>\n",
       "</table>\n",
       "</div>"
      ],
      "text/plain": [
       "   seq_id                                   protein_sequence   pH    tm\n",
       "0       0  AAAAKAAALALLGEAPEVVDIWLPAGWRQPFRVFRLERKGDGVLVG...  7.0  75.7\n",
       "1       1  AAADGEPLHNEEERAGAGQVGRSLPQESEEQRTGSRPRRRRDLGSR...  7.0  50.5\n",
       "2       2  AAAFSTPRATSYRILSSAGSGSTRADAPQVRRLHTTRDLLAKDYYA...  7.0  40.5\n",
       "3       3  AAASGLRTAIPAQPLRHLLQPAPRPCLRPFGLLSVRAGSARRSGLL...  7.0  47.2\n",
       "4       4  AAATKSGPRRQSQGASVRTFTPFYFLVEPVDTLSVRGSSVILNCSA...  7.0  49.5"
      ]
     },
     "execution_count": 25,
     "metadata": {},
     "output_type": "execute_result"
    }
   ],
   "source": [
    "df_.head()"
   ]
  },
  {
   "cell_type": "code",
   "execution_count": 26,
   "metadata": {},
   "outputs": [
    {
     "data": {
      "text/plain": [
       "count    31017.000000\n",
       "mean       449.703969\n",
       "std        644.148182\n",
       "min          5.000000\n",
       "25%        197.000000\n",
       "50%        337.000000\n",
       "75%        527.000000\n",
       "max      32767.000000\n",
       "Name: protein_sequence, dtype: float64"
      ]
     },
     "execution_count": 26,
     "metadata": {},
     "output_type": "execute_result"
    }
   ],
   "source": [
    "df_['protein_sequence'].str.len().describe()"
   ]
  },
  {
   "cell_type": "code",
   "execution_count": 27,
   "metadata": {},
   "outputs": [
    {
     "data": {
      "text/plain": [
       "(2072, 4)"
      ]
     },
     "execution_count": 27,
     "metadata": {},
     "output_type": "execute_result"
    }
   ],
   "source": [
    "# is this length > 1000 for protein sequence normal? Is this bad data, or are these from mutated proteins? \n",
    "df_[df_[\"protein_sequence\"].str.len()>=1000].shape"
   ]
  },
  {
   "cell_type": "code",
   "execution_count": 28,
   "metadata": {},
   "outputs": [
    {
     "data": {
      "image/png": "[encoded data removed]",
      "text/plain": [
       "<Figure size 432x288 with 1 Axes>"
      ]
     },
     "metadata": {
      "needs_background": "light"
     },
     "output_type": "display_data"
    }
   ],
   "source": [
    "fig, ax = plt.subplots(nrows=1, ncols=1, figsize=(6, 4))\n",
    "ax.hist(df_[df_[\"protein_sequence\"].str.len()>=1000][\"protein_sequence\"].str.len(), alpha=0.8, color='gray', label=\"protein sequence length > 1000\")\n",
    "ax.legend();"
   ]
  },
  {
   "cell_type": "markdown",
   "metadata": {},
   "source": [
    "<br><BR/>"
   ]
  },
  {
   "cell_type": "markdown",
   "metadata": {},
   "source": [
    "### Investigating the Protein Sequence "
   ]
  },
  {
   "cell_type": "code",
   "execution_count": 29,
   "metadata": {},
   "outputs": [
    {
     "data": {
      "text/plain": [
       "'AAAAKAAALALLGEAPEVVDIWLPAGWRQPFRVFRLERKGDGVLVGMIKDAGDDPDVTHGAEIQAFVRFASEDRLEGGEGVGVVTKPGLGVPVGEPAINPVPRRMIWEAVREVTERPLAVTIAIPGGEELAKKTLNPRLGILGGLSVLGTTGVVKPYSTSAFRMSVVQAVGVARANGLLEIAATTGGKSERFAQRLLPHLPEMAFIEMGDFVGDVLRAARKVGVEVVRVVGMIGKISKMADGKTMTHAAGGEVNLSLLLSLLKEAGASPKALKEAEGAATARRFLEIALEEGLELFFVNLVRLAQEKLQAYIGERPFVSVALTDFDEGRCLAAWPDREVYR'"
      ]
     },
     "execution_count": 29,
     "metadata": {},
     "output_type": "execute_result"
    }
   ],
   "source": [
    "df_['protein_sequence'][0]"
   ]
  },
  {
   "cell_type": "code",
   "execution_count": 30,
   "metadata": {},
   "outputs": [],
   "source": [
    "amino_acid_counts = df_['protein_sequence'].str.split('').explode().value_counts().drop('')"
   ]
  },
  {
   "cell_type": "code",
   "execution_count": 31,
   "metadata": {},
   "outputs": [
    {
     "data": {
      "text/plain": [
       "(20,)"
      ]
     },
     "execution_count": 31,
     "metadata": {},
     "output_type": "execute_result"
    }
   ],
   "source": [
    "amino_acid_counts.shape"
   ]
  },
  {
   "cell_type": "code",
   "execution_count": 32,
   "metadata": {},
   "outputs": [
    {
     "data": {
      "text/plain": [
       "L    1309177\n",
       "A    1066946\n",
       "E    1017433\n",
       "S    1002102\n",
       "G     930841\n",
       "V     910918\n",
       "K     880741\n",
       "D     775574\n",
       "T     752482\n",
       "R     741451\n",
       "I     739308\n",
       "P     701945\n",
       "Q     606611\n",
       "N     587624\n",
       "F     516586\n",
       "Y     413086\n",
       "M     320709\n",
       "H     313171\n",
       "C     206002\n",
       "W     155761\n",
       "Name: protein_sequence, dtype: int64"
      ]
     },
     "execution_count": 32,
     "metadata": {},
     "output_type": "execute_result"
    }
   ],
   "source": [
    "amino_acid_counts"
   ]
  },
  {
   "cell_type": "code",
   "execution_count": 33,
   "metadata": {},
   "outputs": [],
   "source": [
    "amino_acids = amino_acid_counts.index.to_list()"
   ]
  },
  {
   "cell_type": "code",
   "execution_count": 34,
   "metadata": {},
   "outputs": [
    {
     "name": "stdout",
     "output_type": "stream",
     "text": [
      "<class 'pandas.core.series.Series'>\n",
      "Index(['L', 'A', 'E', 'S', 'G', 'V', 'K', 'D', 'T', 'R', 'I', 'P', 'Q', 'N',\n",
      "       'F', 'Y', 'M', 'H', 'C', 'W'],\n",
      "      dtype='object')\n",
      "['L', 'A', 'E', 'S', 'G', 'V', 'K', 'D', 'T', 'R', 'I', 'P', 'Q', 'N', 'F', 'Y', 'M', 'H', 'C', 'W']\n"
     ]
    }
   ],
   "source": [
    "print (type(amino_acid_counts))\n",
    "print (amino_acid_counts.index)\n",
    "print (amino_acids)"
   ]
  },
  {
   "cell_type": "code",
   "execution_count": 35,
   "metadata": {},
   "outputs": [
    {
     "data": {
      "text/plain": [
       "<matplotlib.legend.Legend at 0x7f88a1b7e210>"
      ]
     },
     "execution_count": 35,
     "metadata": {},
     "output_type": "execute_result"
    },
    {
     "data": {
      "image/png": "[encoded data removed]",
      "text/plain": [
       "<Figure size 432x288 with 1 Axes>"
      ]
     },
     "metadata": {
      "needs_background": "light"
     },
     "output_type": "display_data"
    }
   ],
   "source": [
    "plt.bar(amino_acid_counts.index, alpha=0.8, color='gray', height=amino_acid_counts, label=\"amino acid counts\")\n",
    "plt.legend()"
   ]
  },
  {
   "cell_type": "markdown",
   "metadata": {},
   "source": [
    "<br> <Br/> \n",
    "\n",
    "## 2. Feature Engineering"
   ]
  },
  {
   "cell_type": "code",
   "execution_count": 36,
   "metadata": {},
   "outputs": [],
   "source": [
    "# adding the protein sequence length as a column \n",
    "# adding amino acids as columns with their numbers per row \n",
    "# adding how many different types of amino acids in a sequence as a column? \n",
    "\n",
    "df_['protein_sequence_length'] = df_['protein_sequence'].str.len()\n",
    "for amino_acid in amino_acids:\n",
    "    df_[amino_acid] = df_['protein_sequence'].str.count(amino_acid)"
   ]
  },
  {
   "cell_type": "code",
   "execution_count": 37,
   "metadata": {},
   "outputs": [
    {
     "data": {
      "text/html": [
       "<div>\n",
       "<style scoped>\n",
       "    .dataframe tbody tr th:only-of-type {\n",
       "        vertical-align: middle;\n",
       "    }\n",
       "\n",
       "    .dataframe tbody tr th {\n",
       "        vertical-align: top;\n",
       "    }\n",
       "\n",
       "    .dataframe thead th {\n",
       "        text-align: right;\n",
       "    }\n",
       "</style>\n",
       "<table border=\"1\" class=\"dataframe\">\n",
       "  <thead>\n",
       "    <tr style=\"text-align: right;\">\n",
       "      <th></th>\n",
       "      <th>seq_id</th>\n",
       "      <th>protein_sequence</th>\n",
       "      <th>pH</th>\n",
       "      <th>tm</th>\n",
       "      <th>protein_sequence_length</th>\n",
       "      <th>L</th>\n",
       "      <th>A</th>\n",
       "      <th>E</th>\n",
       "      <th>S</th>\n",
       "      <th>G</th>\n",
       "      <th>...</th>\n",
       "      <th>I</th>\n",
       "      <th>P</th>\n",
       "      <th>Q</th>\n",
       "      <th>N</th>\n",
       "      <th>F</th>\n",
       "      <th>Y</th>\n",
       "      <th>M</th>\n",
       "      <th>H</th>\n",
       "      <th>C</th>\n",
       "      <th>W</th>\n",
       "    </tr>\n",
       "  </thead>\n",
       "  <tbody>\n",
       "    <tr>\n",
       "      <th>0</th>\n",
       "      <td>0</td>\n",
       "      <td>AAAAKAAALALLGEAPEVVDIWLPAGWRQPFRVFRLERKGDGVLVG...</td>\n",
       "      <td>7.0</td>\n",
       "      <td>75.7</td>\n",
       "      <td>341</td>\n",
       "      <td>37</td>\n",
       "      <td>45</td>\n",
       "      <td>30</td>\n",
       "      <td>11</td>\n",
       "      <td>38</td>\n",
       "      <td>...</td>\n",
       "      <td>14</td>\n",
       "      <td>18</td>\n",
       "      <td>6</td>\n",
       "      <td>5</td>\n",
       "      <td>13</td>\n",
       "      <td>3</td>\n",
       "      <td>8</td>\n",
       "      <td>3</td>\n",
       "      <td>1</td>\n",
       "      <td>4</td>\n",
       "    </tr>\n",
       "    <tr>\n",
       "      <th>1</th>\n",
       "      <td>1</td>\n",
       "      <td>AAADGEPLHNEEERAGAGQVGRSLPQESEEQRTGSRPRRRRDLGSR...</td>\n",
       "      <td>7.0</td>\n",
       "      <td>50.5</td>\n",
       "      <td>286</td>\n",
       "      <td>23</td>\n",
       "      <td>28</td>\n",
       "      <td>52</td>\n",
       "      <td>14</td>\n",
       "      <td>18</td>\n",
       "      <td>...</td>\n",
       "      <td>13</td>\n",
       "      <td>8</td>\n",
       "      <td>22</td>\n",
       "      <td>6</td>\n",
       "      <td>6</td>\n",
       "      <td>3</td>\n",
       "      <td>2</td>\n",
       "      <td>4</td>\n",
       "      <td>0</td>\n",
       "      <td>3</td>\n",
       "    </tr>\n",
       "    <tr>\n",
       "      <th>2</th>\n",
       "      <td>2</td>\n",
       "      <td>AAAFSTPRATSYRILSSAGSGSTRADAPQVRRLHTTRDLLAKDYYA...</td>\n",
       "      <td>7.0</td>\n",
       "      <td>40.5</td>\n",
       "      <td>497</td>\n",
       "      <td>18</td>\n",
       "      <td>50</td>\n",
       "      <td>32</td>\n",
       "      <td>33</td>\n",
       "      <td>65</td>\n",
       "      <td>...</td>\n",
       "      <td>16</td>\n",
       "      <td>20</td>\n",
       "      <td>25</td>\n",
       "      <td>15</td>\n",
       "      <td>21</td>\n",
       "      <td>16</td>\n",
       "      <td>6</td>\n",
       "      <td>11</td>\n",
       "      <td>9</td>\n",
       "      <td>3</td>\n",
       "    </tr>\n",
       "    <tr>\n",
       "      <th>3</th>\n",
       "      <td>3</td>\n",
       "      <td>AAASGLRTAIPAQPLRHLLQPAPRPCLRPFGLLSVRAGSARRSGLL...</td>\n",
       "      <td>7.0</td>\n",
       "      <td>47.2</td>\n",
       "      <td>265</td>\n",
       "      <td>28</td>\n",
       "      <td>20</td>\n",
       "      <td>29</td>\n",
       "      <td>16</td>\n",
       "      <td>16</td>\n",
       "      <td>...</td>\n",
       "      <td>10</td>\n",
       "      <td>16</td>\n",
       "      <td>9</td>\n",
       "      <td>9</td>\n",
       "      <td>12</td>\n",
       "      <td>4</td>\n",
       "      <td>2</td>\n",
       "      <td>7</td>\n",
       "      <td>5</td>\n",
       "      <td>3</td>\n",
       "    </tr>\n",
       "    <tr>\n",
       "      <th>4</th>\n",
       "      <td>4</td>\n",
       "      <td>AAATKSGPRRQSQGASVRTFTPFYFLVEPVDTLSVRGSSVILNCSA...</td>\n",
       "      <td>7.0</td>\n",
       "      <td>49.5</td>\n",
       "      <td>1451</td>\n",
       "      <td>104</td>\n",
       "      <td>86</td>\n",
       "      <td>78</td>\n",
       "      <td>148</td>\n",
       "      <td>84</td>\n",
       "      <td>...</td>\n",
       "      <td>71</td>\n",
       "      <td>128</td>\n",
       "      <td>54</td>\n",
       "      <td>65</td>\n",
       "      <td>32</td>\n",
       "      <td>47</td>\n",
       "      <td>31</td>\n",
       "      <td>40</td>\n",
       "      <td>14</td>\n",
       "      <td>16</td>\n",
       "    </tr>\n",
       "  </tbody>\n",
       "</table>\n",
       "<p>5 rows × 25 columns</p>\n",
       "</div>"
      ],
      "text/plain": [
       "   seq_id                                   protein_sequence   pH    tm  \\\n",
       "0       0  AAAAKAAALALLGEAPEVVDIWLPAGWRQPFRVFRLERKGDGVLVG...  7.0  75.7   \n",
       "1       1  AAADGEPLHNEEERAGAGQVGRSLPQESEEQRTGSRPRRRRDLGSR...  7.0  50.5   \n",
       "2       2  AAAFSTPRATSYRILSSAGSGSTRADAPQVRRLHTTRDLLAKDYYA...  7.0  40.5   \n",
       "3       3  AAASGLRTAIPAQPLRHLLQPAPRPCLRPFGLLSVRAGSARRSGLL...  7.0  47.2   \n",
       "4       4  AAATKSGPRRQSQGASVRTFTPFYFLVEPVDTLSVRGSSVILNCSA...  7.0  49.5   \n",
       "\n",
       "   protein_sequence_length    L   A   E    S   G  ...   I    P   Q   N   F  \\\n",
       "0                      341   37  45  30   11  38  ...  14   18   6   5  13   \n",
       "1                      286   23  28  52   14  18  ...  13    8  22   6   6   \n",
       "2                      497   18  50  32   33  65  ...  16   20  25  15  21   \n",
       "3                      265   28  20  29   16  16  ...  10   16   9   9  12   \n",
       "4                     1451  104  86  78  148  84  ...  71  128  54  65  32   \n",
       "\n",
       "    Y   M   H   C   W  \n",
       "0   3   8   3   1   4  \n",
       "1   3   2   4   0   3  \n",
       "2  16   6  11   9   3  \n",
       "3   4   2   7   5   3  \n",
       "4  47  31  40  14  16  \n",
       "\n",
       "[5 rows x 25 columns]"
      ]
     },
     "execution_count": 37,
     "metadata": {},
     "output_type": "execute_result"
    }
   ],
   "source": [
    "df_.head()"
   ]
  },
  {
   "cell_type": "markdown",
   "metadata": {},
   "source": [
    "<p><p/>\n",
    "\n",
    "### Example "
   ]
  },
  {
   "cell_type": "code",
   "execution_count": 39,
   "metadata": {},
   "outputs": [],
   "source": [
    "# adding biophysical properties as columns. These need to be calculated, for which one can use biopython package "
   ]
  },
  {
   "cell_type": "code",
   "execution_count": 38,
   "metadata": {},
   "outputs": [],
   "source": [
    "# finding out the properties of an example data point: \n",
    "ex = ProteinAnalysis(df_['protein_sequence'][0])"
   ]
  },
  {
   "cell_type": "code",
   "execution_count": 39,
   "metadata": {
    "collapsed": true,
    "jupyter": {
     "outputs_hidden": true
    }
   },
   "outputs": [
    {
     "name": "stdout",
     "output_type": "stream",
     "text": [
      "aromaticity:  0.05865102639296188\n",
      "charge at pH:  -1.8728511025479264\n",
      "gravy:  0.14809384164222864\n",
      "instability_index:  28.389736070381236\n",
      "isoelectric_point:  6.109589195251464\n",
      "molecular weight:  36320.724400000036\n",
      "molar_extinction_coefficient:  (26470, 26470)\n",
      "secondary_structure_fraction:  (0.31671554252199413, 0.21114369501466276, 0.3519061583577713)\n",
      "\n",
      "flexibility: \n",
      " [0.9816666666666666, 0.9981785714285716, 0.9898809523809523, 0.9704999999999999, 0.9819404761904762, 0.9628214285714287, 0.9760119047619049, 1.0047499999999998, 1.0168809523809526, 0.9957380952380952, 1.0287976190476191, 1.0299285714285717, 0.9851428571428571, 0.9971428571428572, 1.0075238095238095, 0.9515595238095239, 0.9634761904761905, 0.971297619047619, 0.9918571428571429, 0.9662142857142858, 0.9900714285714285, 0.966595238095238, 1.0110833333333333, 1.0017380952380952, 0.9958095238095238, 0.9619642857142856, 0.9959285714285715, 0.9597738095238096, 0.9676309523809523, 0.9887619047619047, 0.9695238095238095, 1.0291309523809526, 1.00125, 1.0494761904761905, 1.0254880952380951, 1.039797619047619, 1.0158690476190475, 0.9872619047619047, 0.9899761904761907, 0.9725476190476191, 0.9913095238095238, 0.9637857142857142, 0.9797261904761905, 1.0308690476190479, 1.0096785714285712, 1.0116428571428573, 1.041095238095238, 1.0495357142857142, 1.045107142857143, 1.0352380952380953, 1.0330714285714284, 0.9959523809523809, 1.0200952380952382, 0.9943095238095239, 1.0124761904761905, 0.9907380952380953, 1.0213928571428572, 0.9707261904761905, 1.0133452380952381, 0.9790238095238095, 0.9631666666666666, 0.9696071428571429, 0.9780476190476189, 0.9566904761904763, 0.9962023809523809, 1.0111190476190477, 1.0229047619047622, 1.0220000000000002, 1.0189761904761905, 1.0175952380952382, 1.062559523809524, 1.0247380952380951, 1.0319047619047619, 1.0428214285714286, 1.0150119047619046, 0.9961309523809524, 1.0166428571428572, 0.9748928571428572, 0.990297619047619, 1.005404761904762, 1.0209404761904763, 1.0037142857142858, 1.0086547619047619, 0.9940238095238094, 1.0222738095238095, 0.9803095238095239, 1.017738095238095, 0.979107142857143, 1.0240714285714287, 1.024357142857143, 1.0085952380952379, 1.006940476190476, 0.9993809523809525, 1.031654761904762, 1.0085238095238096, 0.982797619047619, 1.022702380952381, 0.9919166666666668, 0.9921309523809524, 0.9748690476190476, 0.9734285714285714, 0.9699523809523809, 1.0092142857142856, 0.9642380952380952, 0.9764285714285714, 1.005297619047619, 1.0191428571428571, 0.980202380952381, 1.0221428571428572, 1.0322857142857143, 1.001952380952381, 1.0174761904761904, 0.9786547619047619, 0.9987619047619047, 0.969892857142857, 0.9797142857142856, 0.9534761904761906, 0.9782380952380952, 0.9665238095238093, 1.0129642857142858, 1.0072738095238096, 1.0207142857142857, 1.04125, 1.0373333333333334, 1.0121666666666667, 1.0447738095238095, 1.054452380952381, 1.0338214285714287, 1.0105, 1.011238095238095, 1.039392857142857, 1.0168690476190476, 0.9984285714285716, 0.9798095238095238, 1.006047619047619, 0.9683809523809523, 0.9807976190476191, 0.9985238095238094, 0.9842500000000001, 0.9666428571428572, 1.0033214285714287, 0.9640000000000002, 0.9842976190476191, 1.0024285714285714, 0.9803690476190476, 0.9871190476190477, 0.9961190476190477, 0.9774642857142859, 0.9946904761904762, 1.0299404761904765, 0.9957023809523811, 0.986202380952381, 1.0292857142857144, 0.9991190476190477, 1.0148809523809523, 0.9841666666666666, 0.9770119047619048, 1.0025357142857143, 0.9685000000000001, 0.995654761904762, 0.9559642857142857, 0.9739880952380954, 0.9977738095238096, 0.9682142857142857, 0.9673095238095238, 0.9944285714285714, 0.9613928571428572, 0.9933928571428571, 0.9928333333333335, 0.9882857142857143, 1.0068095238095238, 0.9958809523809523, 0.9796071428571429, 0.9914642857142859, 1.0185357142857143, 0.9584880952380953, 0.9950476190476191, 0.9867261904761906, 0.9962380952380953, 1.0041071428571429, 1.0179047619047619, 1.0282380952380952, 1.0523333333333333, 1.0317857142857143, 1.0474761904761904, 1.016392857142857, 1.0022142857142857, 1.0175714285714286, 1.0030357142857143, 0.9844880952380952, 0.9686428571428569, 0.9763928571428571, 1.0010952380952378, 0.9681904761904763, 0.9837499999999999, 1.0129285714285712, 1.0063333333333333, 0.9689761904761905, 0.9953333333333334, 0.9722619047619048, 0.9854404761904764, 1.0179761904761906, 0.9637023809523809, 1.0064404761904762, 1.002714285714286, 0.971702380952381, 0.9969404761904763, 1.0051904761904762, 0.9965714285714284, 0.9610833333333334, 0.9808333333333336, 0.9966190476190475, 0.9869642857142857, 0.9916309523809523, 1.000404761904762, 1.0194880952380951, 0.9769761904761906, 1.0216785714285714, 0.9797023809523809, 1.0243333333333335, 0.9574642857142858, 0.9737261904761906, 0.9865119047619049, 0.9539166666666667, 0.9641428571428573, 0.9816190476190476, 0.9606666666666667, 0.9747261904761906, 1.0061785714285714, 1.0175, 0.9800714285714285, 1.0343690476190477, 1.0313571428571429, 0.9970714285714286, 1.030047619047619, 1.0405952380952381, 1.0228095238095238, 1.0401904761904763, 0.9998928571428571, 1.0025238095238096, 1.0084166666666665, 0.9831666666666666, 0.9950595238095239, 0.9929880952380953, 1.0079761904761904, 1.0097380952380952, 1.0243214285714286, 0.9850595238095239, 1.0296309523809524, 0.9790952380952381, 1.0081547619047622, 0.9609761904761905, 0.9706547619047619, 0.966809523809524, 0.9905238095238096, 0.9617738095238098, 0.987642857142857, 1.033452380952381, 1.0153095238095238, 1.0038452380952383, 1.0331428571428571, 1.0230119047619048, 1.0450357142857143, 1.0289880952380952, 1.0397857142857145, 1.0129166666666667, 1.0214642857142857, 1.0654880952380954, 1.0387261904761904, 1.0190595238095237, 1.054559523809524, 1.021440476190476, 1.0168928571428573, 1.0122976190476192, 1.0063928571428573, 0.9947261904761905, 0.9913095238095238, 0.9867738095238094, 0.9655952380952381, 0.9826190476190478, 1.0070357142857145, 0.9528214285714286, 0.9991547619047619, 0.9884880952380954, 1.0367023809523812, 1.0216309523809524, 1.0097023809523809, 0.998845238095238, 1.034309523809524, 0.9630119047619048, 0.9709404761904763, 0.9605357142857143, 0.9570357142857143, 0.9792500000000001, 0.9359404761904762, 0.9590357142857142, 0.9813095238095239, 0.9655119047619048, 1.0014642857142857, 1.0114166666666666, 1.0281071428571429, 1.0285833333333334, 0.9917738095238094, 1.0307738095238095, 0.9930952380952381, 0.9848214285714285, 0.9880714285714285, 1.011988095238095, 1.0141190476190478, 0.987654761904762, 1.0120119047619045, 0.9745238095238096, 0.9929880952380953, 1.001059523809524, 0.9523809523809526, 0.9838809523809524, 0.9638214285714287, 0.9930714285714286, 1.0079761904761906, 0.9752380952380952, 1.0416190476190477, 1.0239285714285715, 1.0066547619047619, 1.0041904761904763, 0.9753214285714285, 0.98575, 0.9803690476190476, 0.9712619047619048, 0.9610714285714285, 1.0158809523809524, 1.0077857142857143, 0.9988809523809524]\n"
     ]
    }
   ],
   "source": [
    "print (\"aromaticity: \", ex.aromaticity())\n",
    "print (\"charge at pH: \", ex.charge_at_pH(df_['pH'][0]))\n",
    "print (\"gravy: \", ex.gravy())\n",
    "print (\"instability_index: \", ex.instability_index())\n",
    "print (\"isoelectric_point: \", ex.isoelectric_point())\n",
    "print (\"molecular weight: \", ex.molecular_weight())\n",
    "print (\"molar_extinction_coefficient: \", ex.molar_extinction_coefficient())\n",
    "print (\"secondary_structure_fraction: \", ex.secondary_structure_fraction())\n",
    "print (\"\")\n",
    "print (\"flexibility: \\n\", ex.flexibility())"
   ]
  },
  {
   "cell_type": "code",
   "execution_count": 40,
   "metadata": {},
   "outputs": [
    {
     "name": "stdout",
     "output_type": "stream",
     "text": [
      "molar_extinction_coefficient 0, with reduced cysteins:  26470\n",
      "molar_extinction_coefficient 1, with disulfied bridges:  26470\n",
      "secondary_structure_fraction 0, helix:  0.31671554252199413\n",
      "secondary_structure_fraction 1, turn:  0.21114369501466276\n",
      "secondary_structure_fraction 2, sheet:  0.3519061583577713\n"
     ]
    }
   ],
   "source": [
    "print (\"molar_extinction_coefficient 0, with reduced cysteins: \", ex.molar_extinction_coefficient()[0])\n",
    "print (\"molar_extinction_coefficient 1, with disulfied bridges: \", ex.molar_extinction_coefficient()[1])\n",
    "print (\"secondary_structure_fraction 0, helix: \", ex.secondary_structure_fraction()[0])\n",
    "print (\"secondary_structure_fraction 1, turn: \", ex.secondary_structure_fraction()[1])\n",
    "print (\"secondary_structure_fraction 2, sheet: \", ex.secondary_structure_fraction()[2])"
   ]
  },
  {
   "cell_type": "markdown",
   "metadata": {},
   "source": [
    "<p><p/>\n",
    "\n",
    "### Generating new features from the dataframe"
   ]
  },
  {
   "cell_type": "code",
   "execution_count": 41,
   "metadata": {},
   "outputs": [],
   "source": [
    "def apply_protein_analysis(data, analysis_type):\n",
    "    temp = ProteinAnalysis(data['protein_sequence'])\n",
    "    if analysis_type == \"aromaticity\":\n",
    "        return temp.aromaticity()\n",
    "    elif analysis_type == \"gravy\":\n",
    "        return temp.gravy()\n",
    "    elif analysis_type == \"instability_index\":\n",
    "        return temp.instability_index()\n",
    "    elif analysis_type == \"isoelectric_point\":\n",
    "        return temp.isoelectric_point()\n",
    "    elif analysis_type == \"molecular_weight\":\n",
    "        return temp.molecular_weight()\n",
    "    elif analysis_type == \"molar_extinction_coefficient_reduced cysteins\":\n",
    "        return temp.molar_extinction_coefficient()[0]\n",
    "    elif analysis_type == \"molar_extinction_coefficient_disulfied bridges\":\n",
    "        return temp.molar_extinction_coefficient()[1]\n",
    "    elif analysis_type == \"secondary_structure_fraction_helix\":\n",
    "        return temp.secondary_structure_fraction()[0]\n",
    "    elif analysis_type == \"secondary_structure_fraction_turn\":\n",
    "        return temp.secondary_structure_fraction()[1]\n",
    "    elif analysis_type == \"secondary_structure_fraction_sheet\":\n",
    "        return temp.secondary_structure_fraction()[2]\n",
    "    elif analysis_type == \"flexibility\":\n",
    "        return temp.flexibility()\n",
    "    else:\n",
    "        return None \n",
    "    \n",
    "def apply_charge_at_pH(data1, data2):\n",
    "    temp = ProteinAnalysis(data1)\n",
    "    return temp.charge_at_pH(data2)\n",
    "\n",
    "def apply_aromaticity(data):\n",
    "    temp = ProteinAnalysis(data['protein_sequence'])\n",
    "    return temp.aromaticity()"
   ]
  },
  {
   "cell_type": "code",
   "execution_count": 42,
   "metadata": {},
   "outputs": [
    {
     "data": {
      "text/plain": [
       "0.06547208821502412"
      ]
     },
     "execution_count": 42,
     "metadata": {},
     "output_type": "execute_result"
    }
   ],
   "source": [
    "ProteinAnalysis(df['protein_sequence'][4]).aromaticity()"
   ]
  },
  {
   "cell_type": "code",
   "execution_count": 43,
   "metadata": {},
   "outputs": [
    {
     "data": {
      "text/plain": [
       "0        0.058651\n",
       "1        0.041958\n",
       "2        0.080483\n",
       "3        0.071698\n",
       "4        0.065472\n",
       "           ...   \n",
       "31385    0.089253\n",
       "31386    0.087420\n",
       "31387    0.117188\n",
       "31388    0.074199\n",
       "31389    0.135940\n",
       "Length: 31017, dtype: float64"
      ]
     },
     "execution_count": 43,
     "metadata": {},
     "output_type": "execute_result"
    }
   ],
   "source": [
    "df_.apply(apply_aromaticity, axis=1)"
   ]
  },
  {
   "cell_type": "code",
   "execution_count": 44,
   "metadata": {},
   "outputs": [],
   "source": [
    "analysis_types = ['aromaticity', 'gravy', 'instability_index', 'isoelectric_point', 'molecular_weight',\n",
    "                  'molar_extinction_coefficient_reduced cysteins', 'molar_extinction_coefficient_disulfied bridges', \n",
    "                  'secondary_structure_fraction_helix', 'secondary_structure_fraction_turn', 'secondary_structure_fraction_sheet',\n",
    "                  'flexibility'] # \n",
    "for analysis_type in analysis_types:\n",
    "    df_[analysis_type] = df_.apply(apply_protein_analysis, axis=1, analysis_type=analysis_type)"
   ]
  },
  {
   "cell_type": "code",
   "execution_count": 45,
   "metadata": {},
   "outputs": [],
   "source": [
    "# this requires two mappings for two columns \n",
    "df_['charge_at_pH'] =  df_.apply(lambda x: apply_charge_at_pH(x.protein_sequence, x.pH), axis=1)"
   ]
  },
  {
   "cell_type": "code",
   "execution_count": 46,
   "metadata": {},
   "outputs": [
    {
     "data": {
      "text/html": [
       "<div>\n",
       "<style scoped>\n",
       "    .dataframe tbody tr th:only-of-type {\n",
       "        vertical-align: middle;\n",
       "    }\n",
       "\n",
       "    .dataframe tbody tr th {\n",
       "        vertical-align: top;\n",
       "    }\n",
       "\n",
       "    .dataframe thead th {\n",
       "        text-align: right;\n",
       "    }\n",
       "</style>\n",
       "<table border=\"1\" class=\"dataframe\">\n",
       "  <thead>\n",
       "    <tr style=\"text-align: right;\">\n",
       "      <th></th>\n",
       "      <th>seq_id</th>\n",
       "      <th>protein_sequence</th>\n",
       "      <th>pH</th>\n",
       "      <th>tm</th>\n",
       "      <th>protein_sequence_length</th>\n",
       "      <th>L</th>\n",
       "      <th>A</th>\n",
       "      <th>E</th>\n",
       "      <th>S</th>\n",
       "      <th>G</th>\n",
       "      <th>...</th>\n",
       "      <th>instability_index</th>\n",
       "      <th>isoelectric_point</th>\n",
       "      <th>molecular_weight</th>\n",
       "      <th>molar_extinction_coefficient_reduced cysteins</th>\n",
       "      <th>molar_extinction_coefficient_disulfied bridges</th>\n",
       "      <th>secondary_structure_fraction_helix</th>\n",
       "      <th>secondary_structure_fraction_turn</th>\n",
       "      <th>secondary_structure_fraction_sheet</th>\n",
       "      <th>flexibility</th>\n",
       "      <th>charge_at_pH</th>\n",
       "    </tr>\n",
       "  </thead>\n",
       "  <tbody>\n",
       "    <tr>\n",
       "      <th>0</th>\n",
       "      <td>0</td>\n",
       "      <td>AAAAKAAALALLGEAPEVVDIWLPAGWRQPFRVFRLERKGDGVLVG...</td>\n",
       "      <td>7.0</td>\n",
       "      <td>75.7</td>\n",
       "      <td>341</td>\n",
       "      <td>37</td>\n",
       "      <td>45</td>\n",
       "      <td>30</td>\n",
       "      <td>11</td>\n",
       "      <td>38</td>\n",
       "      <td>...</td>\n",
       "      <td>28.389736</td>\n",
       "      <td>6.109589</td>\n",
       "      <td>36320.7244</td>\n",
       "      <td>26470</td>\n",
       "      <td>26470</td>\n",
       "      <td>0.316716</td>\n",
       "      <td>0.211144</td>\n",
       "      <td>0.351906</td>\n",
       "      <td>[0.9816666666666666, 0.9981785714285716, 0.989...</td>\n",
       "      <td>-1.872851</td>\n",
       "    </tr>\n",
       "    <tr>\n",
       "      <th>1</th>\n",
       "      <td>1</td>\n",
       "      <td>AAADGEPLHNEEERAGAGQVGRSLPQESEEQRTGSRPRRRRDLGSR...</td>\n",
       "      <td>7.0</td>\n",
       "      <td>50.5</td>\n",
       "      <td>286</td>\n",
       "      <td>23</td>\n",
       "      <td>28</td>\n",
       "      <td>52</td>\n",
       "      <td>14</td>\n",
       "      <td>18</td>\n",
       "      <td>...</td>\n",
       "      <td>65.108392</td>\n",
       "      <td>5.144349</td>\n",
       "      <td>32837.9931</td>\n",
       "      <td>20970</td>\n",
       "      <td>20970</td>\n",
       "      <td>0.213287</td>\n",
       "      <td>0.160839</td>\n",
       "      <td>0.367133</td>\n",
       "      <td>[1.0370119047619046, 1.018095238095238, 1.0032...</td>\n",
       "      <td>-12.720355</td>\n",
       "    </tr>\n",
       "    <tr>\n",
       "      <th>2</th>\n",
       "      <td>2</td>\n",
       "      <td>AAAFSTPRATSYRILSSAGSGSTRADAPQVRRLHTTRDLLAKDYYA...</td>\n",
       "      <td>7.0</td>\n",
       "      <td>40.5</td>\n",
       "      <td>497</td>\n",
       "      <td>18</td>\n",
       "      <td>50</td>\n",
       "      <td>32</td>\n",
       "      <td>33</td>\n",
       "      <td>65</td>\n",
       "      <td>...</td>\n",
       "      <td>35.089336</td>\n",
       "      <td>9.032101</td>\n",
       "      <td>53428.8034</td>\n",
       "      <td>40340</td>\n",
       "      <td>40840</td>\n",
       "      <td>0.209256</td>\n",
       "      <td>0.267606</td>\n",
       "      <td>0.213280</td>\n",
       "      <td>[0.987547619047619, 1.0112976190476188, 0.9999...</td>\n",
       "      <td>11.730622</td>\n",
       "    </tr>\n",
       "    <tr>\n",
       "      <th>3</th>\n",
       "      <td>3</td>\n",
       "      <td>AAASGLRTAIPAQPLRHLLQPAPRPCLRPFGLLSVRAGSARRSGLL...</td>\n",
       "      <td>7.0</td>\n",
       "      <td>47.2</td>\n",
       "      <td>265</td>\n",
       "      <td>28</td>\n",
       "      <td>20</td>\n",
       "      <td>29</td>\n",
       "      <td>16</td>\n",
       "      <td>16</td>\n",
       "      <td>...</td>\n",
       "      <td>50.502264</td>\n",
       "      <td>4.683840</td>\n",
       "      <td>29475.5996</td>\n",
       "      <td>22460</td>\n",
       "      <td>22710</td>\n",
       "      <td>0.267925</td>\n",
       "      <td>0.215094</td>\n",
       "      <td>0.298113</td>\n",
       "      <td>[0.9806190476190478, 1.0057738095238096, 0.990...</td>\n",
       "      <td>-20.561692</td>\n",
       "    </tr>\n",
       "    <tr>\n",
       "      <th>4</th>\n",
       "      <td>4</td>\n",
       "      <td>AAATKSGPRRQSQGASVRTFTPFYFLVEPVDTLSVRGSSVILNCSA...</td>\n",
       "      <td>7.0</td>\n",
       "      <td>49.5</td>\n",
       "      <td>1451</td>\n",
       "      <td>104</td>\n",
       "      <td>86</td>\n",
       "      <td>78</td>\n",
       "      <td>148</td>\n",
       "      <td>84</td>\n",
       "      <td>...</td>\n",
       "      <td>45.668808</td>\n",
       "      <td>5.917928</td>\n",
       "      <td>158761.9814</td>\n",
       "      <td>158030</td>\n",
       "      <td>158905</td>\n",
       "      <td>0.271537</td>\n",
       "      <td>0.292901</td>\n",
       "      <td>0.206065</td>\n",
       "      <td>[1.0195714285714286, 1.0309166666666667, 1.038...</td>\n",
       "      <td>-21.664651</td>\n",
       "    </tr>\n",
       "  </tbody>\n",
       "</table>\n",
       "<p>5 rows × 37 columns</p>\n",
       "</div>"
      ],
      "text/plain": [
       "   seq_id                                   protein_sequence   pH    tm  \\\n",
       "0       0  AAAAKAAALALLGEAPEVVDIWLPAGWRQPFRVFRLERKGDGVLVG...  7.0  75.7   \n",
       "1       1  AAADGEPLHNEEERAGAGQVGRSLPQESEEQRTGSRPRRRRDLGSR...  7.0  50.5   \n",
       "2       2  AAAFSTPRATSYRILSSAGSGSTRADAPQVRRLHTTRDLLAKDYYA...  7.0  40.5   \n",
       "3       3  AAASGLRTAIPAQPLRHLLQPAPRPCLRPFGLLSVRAGSARRSGLL...  7.0  47.2   \n",
       "4       4  AAATKSGPRRQSQGASVRTFTPFYFLVEPVDTLSVRGSSVILNCSA...  7.0  49.5   \n",
       "\n",
       "   protein_sequence_length    L   A   E    S   G  ...  instability_index  \\\n",
       "0                      341   37  45  30   11  38  ...          28.389736   \n",
       "1                      286   23  28  52   14  18  ...          65.108392   \n",
       "2                      497   18  50  32   33  65  ...          35.089336   \n",
       "3                      265   28  20  29   16  16  ...          50.502264   \n",
       "4                     1451  104  86  78  148  84  ...          45.668808   \n",
       "\n",
       "   isoelectric_point  molecular_weight  \\\n",
       "0           6.109589        36320.7244   \n",
       "1           5.144349        32837.9931   \n",
       "2           9.032101        53428.8034   \n",
       "3           4.683840        29475.5996   \n",
       "4           5.917928       158761.9814   \n",
       "\n",
       "   molar_extinction_coefficient_reduced cysteins  \\\n",
       "0                                          26470   \n",
       "1                                          20970   \n",
       "2                                          40340   \n",
       "3                                          22460   \n",
       "4                                         158030   \n",
       "\n",
       "   molar_extinction_coefficient_disulfied bridges  \\\n",
       "0                                           26470   \n",
       "1                                           20970   \n",
       "2                                           40840   \n",
       "3                                           22710   \n",
       "4                                          158905   \n",
       "\n",
       "   secondary_structure_fraction_helix  secondary_structure_fraction_turn  \\\n",
       "0                            0.316716                           0.211144   \n",
       "1                            0.213287                           0.160839   \n",
       "2                            0.209256                           0.267606   \n",
       "3                            0.267925                           0.215094   \n",
       "4                            0.271537                           0.292901   \n",
       "\n",
       "   secondary_structure_fraction_sheet  \\\n",
       "0                            0.351906   \n",
       "1                            0.367133   \n",
       "2                            0.213280   \n",
       "3                            0.298113   \n",
       "4                            0.206065   \n",
       "\n",
       "                                         flexibility  charge_at_pH  \n",
       "0  [0.9816666666666666, 0.9981785714285716, 0.989...     -1.872851  \n",
       "1  [1.0370119047619046, 1.018095238095238, 1.0032...    -12.720355  \n",
       "2  [0.987547619047619, 1.0112976190476188, 0.9999...     11.730622  \n",
       "3  [0.9806190476190478, 1.0057738095238096, 0.990...    -20.561692  \n",
       "4  [1.0195714285714286, 1.0309166666666667, 1.038...    -21.664651  \n",
       "\n",
       "[5 rows x 37 columns]"
      ]
     },
     "execution_count": 46,
     "metadata": {},
     "output_type": "execute_result"
    }
   ],
   "source": [
    "df_.head()"
   ]
  },
  {
   "cell_type": "code",
   "execution_count": 47,
   "metadata": {},
   "outputs": [
    {
     "data": {
      "text/plain": [
       "Index(['seq_id', 'protein_sequence', 'pH', 'tm', 'protein_sequence_length',\n",
       "       'L', 'A', 'E', 'S', 'G', 'V', 'K', 'D', 'T', 'R', 'I', 'P', 'Q', 'N',\n",
       "       'F', 'Y', 'M', 'H', 'C', 'W', 'aromaticity', 'gravy',\n",
       "       'instability_index', 'isoelectric_point', 'molecular_weight',\n",
       "       'molar_extinction_coefficient_reduced cysteins',\n",
       "       'molar_extinction_coefficient_disulfied bridges',\n",
       "       'secondary_structure_fraction_helix',\n",
       "       'secondary_structure_fraction_turn',\n",
       "       'secondary_structure_fraction_sheet', 'flexibility', 'charge_at_pH'],\n",
       "      dtype='object')"
      ]
     },
     "execution_count": 47,
     "metadata": {},
     "output_type": "execute_result"
    }
   ],
   "source": [
    "df_.columns"
   ]
  },
  {
   "cell_type": "markdown",
   "metadata": {},
   "source": [
    "<br><br/>\n",
    "\n",
    "## 3. Save the new dataframe"
   ]
  },
  {
   "cell_type": "code",
   "execution_count": 48,
   "metadata": {},
   "outputs": [],
   "source": [
    "df_.to_csv(\"data/train_feature_engineered.csv\", index=False)"
   ]
  },
  {
   "cell_type": "markdown",
   "metadata": {},
   "source": [
    "<p><p/>"
   ]
  }
 ],
 "metadata": {
  "kernelspec": {
   "display_name": "Python 3",
   "language": "python",
   "name": "python3"
  },
  "language_info": {
   "codemirror_mode": {
    "name": "ipython",
    "version": 3
   },
   "file_extension": ".py",
   "mimetype": "text/x-python",
   "name": "python",
   "nbconvert_exporter": "python",
   "pygments_lexer": "ipython3",
   "version": "3.7.7"
  }
 },
 "nbformat": 4,
 "nbformat_minor": 4
}
